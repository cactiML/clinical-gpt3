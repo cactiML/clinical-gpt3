{
 "cells": [
  {
   "cell_type": "code",
   "execution_count": 95,
   "id": "9dd63422-f8f5-4bff-be3f-aad57bf48dfc",
   "metadata": {
    "tags": []
   },
   "outputs": [],
   "source": [
    "import os\n",
    "import openai\n",
    "\n",
    "openai.api_key = os.environ[\"OPENAI_API_KEY\"]\n",
    "\n",
    "def query(prompt, data, to_print=True):\n",
    "    response = openai.Completion.create(\n",
    "        model=\"text-davinci-003\",\n",
    "        prompt=\"{}:\\n\\n{}\".format(prompt, data),\n",
    "        temperature=0.7,\n",
    "        max_tokens=256,\n",
    "        top_p=1,\n",
    "        frequency_penalty=0,\n",
    "        presence_penalty=0\n",
    "    )\n",
    "\n",
    "    payload = response['choices'][0]['text'].strip()\n",
    "    if to_print:\n",
    "        print(payload)\n",
    "    return payload"
   ]
  },
  {
   "cell_type": "markdown",
   "id": "6857eb5f-b2c3-418f-acc2-08c02523aab2",
   "metadata": {
    "tags": []
   },
   "source": [
    "## Entity Extraction"
   ]
  },
  {
   "cell_type": "markdown",
   "id": "788b2a1e-283c-421e-9585-624061dac521",
   "metadata": {
    "tags": []
   },
   "source": [
    "### Medication Entity Extraction"
   ]
  },
  {
   "cell_type": "code",
   "execution_count": 94,
   "id": "9cc54ef5-1e29-4047-aa65-618b5b1ef015",
   "metadata": {
    "tags": []
   },
   "outputs": [],
   "source": [
    "text = \"Mr. Henderson has PMH of COPD diagnosed in 2009 (minimally symptomatic, uses albuterol PRN); MI in 2015 with stent placement in 2015 (on ASA and clopidogrel); unspecified anxiety disorder (diagnosed by PCP in 2018 (on Prozac 10mg qd).\""
   ]
  },
  {
   "cell_type": "markdown",
   "id": "bc74c22c-2df4-4ac7-8c5b-8611c83c22b1",
   "metadata": {
    "tags": []
   },
   "source": [
    "#### Medication Entity Extraction"
   ]
  },
  {
   "cell_type": "code",
   "execution_count": 19,
   "id": "bb5771fa-8dea-4aca-bed8-82033be18804",
   "metadata": {},
   "outputs": [
    {
     "name": "stdout",
     "output_type": "stream",
     "text": [
      "Medications:\n",
      "- Albuterol (as needed) \n",
      "- ASA (unknown dosage, frequency unknown) \n",
      "- Clopidogrel (unknown dosage, frequency unknown) \n",
      "- Prozac (10mg per day)\n"
     ]
    }
   ],
   "source": [
    "res = query(\"Extract all medications from the text and the dosage and frequency for each if specified\", text)"
   ]
  },
  {
   "cell_type": "markdown",
   "id": "f3335124-806e-4833-95ca-9844772627cf",
   "metadata": {},
   "source": [
    "#### Medication Generic/Brand Name Resolution"
   ]
  },
  {
   "cell_type": "code",
   "execution_count": 49,
   "id": "2215a259-5592-41ca-b888-7d8a51b0f90f",
   "metadata": {},
   "outputs": [
    {
     "name": "stdout",
     "output_type": "stream",
     "text": [
      "Albuterol\n",
      "Aspirin\n",
      "Clopidogrel\n",
      "Prozac\n"
     ]
    }
   ],
   "source": [
    "drugnames = query(\"Extract all medications from the text and print one medication per line\", text)"
   ]
  },
  {
   "cell_type": "code",
   "execution_count": 79,
   "id": "66236aef-8c54-4488-be80-71600d704d20",
   "metadata": {},
   "outputs": [
    {
     "name": "stdout",
     "output_type": "stream",
     "text": [
      "Albuterol - Generic Name\n",
      "Aspirin - Generic Name\n",
      "Clopidogrel - Generic Name\n",
      "Prozac - Brand Name\n"
     ]
    }
   ],
   "source": [
    "res = query(\"For each of the drugs in the list, identify if it is the generic name or Brand name of the drug.\", drugnames)"
   ]
  },
  {
   "cell_type": "code",
   "execution_count": 82,
   "id": "71cbeaed-6e6a-44de-b803-9e7a9aa46bbd",
   "metadata": {},
   "outputs": [
    {
     "name": "stdout",
     "output_type": "stream",
     "text": [
      "brands = ['Prozac']\n",
      "Fluoxetine\n"
     ]
    }
   ],
   "source": [
    "brands = [x[0].strip() for x in list(\n",
    "    filter(lambda x: \"Brand\" in x[1], [line.split(\"-\") for line in res.split(\"\\n\")])\n",
    ")]\n",
    "print(f\"{brands = }\")\n",
    "res = query(\"Give me the generic name for\", \",\".join(brands))"
   ]
  },
  {
   "cell_type": "markdown",
   "id": "a0c35a91-6cbe-4a74-abf9-3aab15b17e63",
   "metadata": {
    "tags": []
   },
   "source": [
    "### Clinical Entity Extraction"
   ]
  },
  {
   "cell_type": "code",
   "execution_count": 83,
   "id": "37f89fba-b739-48da-9498-3a323c55b92c",
   "metadata": {},
   "outputs": [
    {
     "name": "stdout",
     "output_type": "stream",
     "text": [
      "1. COPD (Chronic Obstructive Pulmonary Disease)\n",
      "2. MI (Myocardial Infarction)\n",
      "3. Anxiety Disorder\n"
     ]
    }
   ],
   "source": [
    "res = query(\"List the medical conditions mentioned in this selection\", text)"
   ]
  },
  {
   "cell_type": "code",
   "execution_count": 84,
   "id": "06289dff-fdca-45ec-8470-86520139cc54",
   "metadata": {},
   "outputs": [
    {
     "name": "stdout",
     "output_type": "stream",
     "text": [
      "Medical Conditions:\n",
      "\n",
      "1. COPD (Chronic Obstructive Pulmonary Disease) - diagnosed in 2009\n",
      "2. MI (Myocardial Infarction) - in 2015 \n",
      "3. Anxiety Disorder - diagnosed by PCP in 2018\n"
     ]
    }
   ],
   "source": [
    "res = query(\"List the medical conditions mentioned in this selection and when each occured, if mentioned\", text)"
   ]
  },
  {
   "cell_type": "markdown",
   "id": "589ed383-f1d6-4543-b1cf-bf44b4ea61df",
   "metadata": {
    "tags": []
   },
   "source": [
    "## Summarization of Clinical Text"
   ]
  },
  {
   "cell_type": "code",
   "execution_count": 85,
   "id": "9a5cd23b-72f2-4f21-9d06-645ad804daa5",
   "metadata": {},
   "outputs": [],
   "source": [
    "text = \"\"\"\n",
    "REVIEW OF SYSTEMS:\n",
    "General: Discomfort and mild distress.\n",
    "Cardiovascular: Endorses chest pain, feeling of pressure in the chest. Denies palpitations.\n",
    "Respiratory: Denies cough, sputum production, or hemoptysis\n",
    "Gastrointestinal: Denies nausea, vomiting, abdominal pain, or change in bowel habits.\n",
    "Genitourinary: Denies urinary frequency, urgency, or dysuria.\n",
    "Musculoskeletal: Denies joint pain, swelling, or weakness \n",
    "Skin: Denies noticing any rash, lesions, or changes in skin color.\n",
    "Neurological: Denies headaches, dizziness, or changes in mental status.\n",
    "\"\"\""
   ]
  },
  {
   "cell_type": "code",
   "execution_count": 87,
   "id": "15a7b77f-2b0c-48e3-ad61-5828d3a050ff",
   "metadata": {},
   "outputs": [
    {
     "name": "stdout",
     "output_type": "stream",
     "text": [
      "Positive Signs: Discomfort, mild distress, chest pain, feeling of pressure in the chest.\n"
     ]
    }
   ],
   "source": [
    "res = query(\"List the positive signs detailed in the following medical Review of Systems\", text)"
   ]
  },
  {
   "cell_type": "markdown",
   "id": "c8cef164-7185-4160-aa28-47dbad773e6a",
   "metadata": {},
   "source": [
    "## Clinical Question-Answering"
   ]
  },
  {
   "cell_type": "code",
   "execution_count": 88,
   "id": "d561f663-7fca-46f6-9d1c-d08de07a15da",
   "metadata": {},
   "outputs": [],
   "source": [
    "text = \"\"\"\n",
    "HISTORY OF PRESENT ILLNESS:\n",
    "Roger Henderson is a 65 yo male with PMH of COPD, MI s/p stent placement 2015, anxiety, presenting to CMC ED complaining of shortness of breath and chest pain for past 30 minutes. Patient reports he was at home on his couch watching TV when he began experiencing pain which he describes as a sharp, stabbing sensation in the center of his chest. Patient concurrently began experincing shortness of breath and feeling of pressure in his chest. He called 911 and EMS was sent to his house to pick him up and bring him to ED. \n",
    "\n",
    "On arrival to ED, patient was diaphoretic and in pain, and was gasping for air while answering questions. Patient describes the pain as 8/10 in severity and has not changed in character or intensity over the past 30 minutes. Patient denies any radiation of pain beyond chest. Patient denies any N/V. Vitals were as follows -- BP 130/82; HR 110 bpm;  RR 24 breaths/min; O2 Sat 98% on room air.\n",
    "\n",
    "At ED, aspirin and nitroglycerin was administered with minimal relief in symptoms. EKG was performed which did not indicate any ST/T wave changes. Troponin level non-elevated. CBC and CMP results were all within reference range. \n",
    "\"\"\""
   ]
  },
  {
   "cell_type": "code",
   "execution_count": 89,
   "id": "6c3f8ec2-8074-42a1-9d78-b0a9b1724b9c",
   "metadata": {},
   "outputs": [
    {
     "name": "stdout",
     "output_type": "stream",
     "text": [
      "Chest x-ray was negative for any acute process and patient was given oxygen to help with his breathing. \n",
      "\n",
      "Medications given to patient on arrival included:\n",
      "- Aspirin\n",
      "- Nitroglycerin\n"
     ]
    }
   ],
   "source": [
    "res = query(\"What medications were given to patient on arrival?\", text)"
   ]
  },
  {
   "cell_type": "code",
   "execution_count": 93,
   "id": "7babda3b-a1df-43d0-9572-75bbca144338",
   "metadata": {},
   "outputs": [
    {
     "name": "stdout",
     "output_type": "stream",
     "text": [
      "The patient called 911 because he was experiencing chest pain and shortness of breath which was severe enough to warrant medical attention.\n"
     ]
    }
   ],
   "source": [
    "res = query(\"Why did patient call 911?\", text)"
   ]
  },
  {
   "cell_type": "code",
   "execution_count": 92,
   "id": "1be4dea3-7e01-4b38-bd49-9773e5d84a1c",
   "metadata": {},
   "outputs": [
    {
     "name": "stdout",
     "output_type": "stream",
     "text": [
      "EMS brought the patient in to the ED.\n"
     ]
    }
   ],
   "source": [
    "res = query(\"Who brought the patient in to the ED?\", text)"
   ]
  }
 ],
 "metadata": {
  "kernelspec": {
   "display_name": "Python 3",
   "language": "python",
   "name": "python3"
  },
  "language_info": {
   "codemirror_mode": {
    "name": "ipython",
    "version": 3
   },
   "file_extension": ".py",
   "mimetype": "text/x-python",
   "name": "python",
   "nbconvert_exporter": "python",
   "pygments_lexer": "ipython3",
   "version": "3.9.15"
  }
 },
 "nbformat": 4,
 "nbformat_minor": 5
}
